{
  "metadata": {
    "language_info": {
      "codemirror_mode": {
        "name": "python",
        "version": 3
      },
      "file_extension": ".py",
      "mimetype": "text/x-python",
      "name": "python",
      "nbconvert_exporter": "python",
      "pygments_lexer": "ipython3",
      "version": "3.8"
    },
    "kernelspec": {
      "name": "python",
      "display_name": "Python (Pyodide)",
      "language": "python"
    }
  },
  "nbformat_minor": 4,
  "nbformat": 4,
  "cells": [
    {
      "cell_type": "code",
      "source": "#created the notebook of Data science Ecosystem",
      "metadata": {},
      "execution_count": null,
      "outputs": []
    },
    {
      "cell_type": "markdown",
      "source": "<H1>Data Science Tools And Ecosystem</H1>",
      "metadata": {}
    },
    {
      "cell_type": "markdown",
      "source": "#created the markdown cell with Data Science Tools And Ecosystem",
      "metadata": {}
    },
    {
      "cell_type": "markdown",
      "source": "<h1>In this notebook the Data science Tools and Ecosystem is summerized:</h1>\n>Open source tools for data science <br>\n>The steps including in Data Asset Management <br>\n>Languages for Data science: Python,R,SQL,Scala etc<br>\n>Data science Libraries<br>\n>Interoduction and working of Jupyter Lab,Git Hub<br>",
      "metadata": {}
    },
    {
      "cell_type": "markdown",
      "source": "<H1> Some Of The Popular Languages Data Scientist Are Use :</H1>\n<ol>\n    <li>Python</li>\n    <li>R</li>\n    <li>SQL</li>\n    <li>Scala</li>\n    <li>Java</li>\n    <li> c++</li>\n    <li> Julia</li>\n    </ol>\n   >These are some popular languages we use for data science work  ",
      "metadata": {}
    },
    {
      "cell_type": "markdown",
      "source": "<h1>Some of commonly Used lib used by Data Scientist Are :</h1>\n<ol>\n    <li>Python Lib:   Pandas,numpy,Matplotlib</li>\n    <li>Python lib for ML and deep learning :  scikit learn,keras,TensorFlow,Pytorcheyc</li>\n    <li> Scala Libraies</li>\n    <li> R Libraries</li>\n",
      "metadata": {}
    },
    {
      "cell_type": "markdown",
      "source": "<table style=\"width:40%\">\n <tr>\n        <th> Data Science Tools  </th>\n</tr>\n<tr>\n    <td>Data science tools</td>\n    <td> open source tools </td>\n</tr>   \n    ",
      "metadata": {}
    },
    {
      "cell_type": "markdown",
      "source": "| Data Science Tools      |                                                     |\n|---------------|------------------------------------------------------------------|\n| Data Science Tools        | A powerful and flexible open-source data analysis tool           |\n| Open Source Tools         | Fundamental package for numerical computing in Python            |\n|                           | Efficient and easy-to-use machine learning library               |\n\n",
      "metadata": {}
    },
    {
      "cell_type": "markdown",
      "source": "| Data Science Tools |\n|--------------------|\n| Jupyter Notebook   |\n| RStudio            |\n| Visual Studio Code |\n",
      "metadata": {}
    },
    {
      "cell_type": "markdown",
      "source": "<h3> Below are a few examples of evaluating arithmetic expressions in Python</h3>\n*Addition :10+5=15<br>\n*subtraction:10-5=5<br>\n*Multiplication:10*5=50<br>\n*Division :10/5=2<br>\n",
      "metadata": {}
    },
    {
      "cell_type": "code",
      "source": "# This is a simple arithmetic expression to multiply then add integers.\nresult = (3 * 4) + 5\nresult\n",
      "metadata": {
        "trusted": true
      },
      "execution_count": 12,
      "outputs": [
        {
          "execution_count": 12,
          "output_type": "execute_result",
          "data": {
            "text/plain": "17"
          },
          "metadata": {}
        }
      ]
    },
    {
      "cell_type": "code",
      "source": "# Convert minutes to hours\nminutes = 200 \n#by dividing 200min by 60 it will give us the output \nhours = minutes / 60 \nhours\n",
      "metadata": {
        "trusted": true
      },
      "execution_count": 14,
      "outputs": [
        {
          "execution_count": 14,
          "output_type": "execute_result",
          "data": {
            "text/plain": "3.3333333333333335"
          },
          "metadata": {}
        }
      ]
    },
    {
      "cell_type": "markdown",
      "source": "**Objectives:**\n\n-Open source tools for data science <br>\n-The steps including in Data Asset Management <br>\n-Languages for Data science: Python,R,SQL,Scala etc<br>\n-Data science Libraries<br>\n-Interoduction and working of Jupyter Lab,Git Hub<br>\n-Open Source Tools :Jupyter notebook , R studio,Visual Studio<br> \n",
      "metadata": {}
    },
    {
      "cell_type": "markdown",
      "source": "<h2> Author</h2>\nJui Deshpande",
      "metadata": {}
    },
    {
      "cell_type": "code",
      "source": "",
      "metadata": {},
      "execution_count": null,
      "outputs": []
    }
  ]
}